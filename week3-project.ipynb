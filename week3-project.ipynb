{
 "cells": [
  {
   "cell_type": "code",
   "execution_count": 6,
   "metadata": {},
   "outputs": [],
   "source": [
    "class Property():\n",
    "    def __init__(self):\n",
    "        # ADDRESS\n",
    "        print(\"First, a few basic questions regarding your property.\")\n",
    "        self.street_address = input('\\nWhat is the street address of your property?\\n').lower()\n",
    "        self.city = input('\\nWhat city is your property located in?\\n').lower()\n",
    "        self.state = input('\\nWhat state is your property located in?\\n').lower()\n",
    "        self.zip_code = abs(int(input('\\nWhat ZIP code is your property located in?\\n')))\n",
    "        self.type = input('\\nWhat type of property is it? (Condo, Duplex, House, Beach House, etc.)\\n').lower()\n",
    "        # INCOME\n",
    "        print(\"\\nThanks. Now let's get started with evaluating your property's return-on-investment (ROI).\\nWe're going ask you a couple of questions regarding income from your property.\")\n",
    "        self.inc_rent = float(input(\"\\nWhat will be the property's monthly income from RENT?\\n\"))\n",
    "        self.inc_fees = float(input(\"\\nWhat will be the property's monthly income from FEES?\\n\"))\n",
    "            # TOTAL\n",
    "        self.inc_total_monthly = self.inc_rent + self.inc_fees\n",
    "\n",
    "        # EXPENSES\n",
    "        print(\"\\nNext, we're going ask you a series of questions regarding expenses incurred from your property.\")\n",
    "        self.exp_mortgage = float(input(\"\\nHow much do you pay monthly in MORTGAGE on your property?\\n\"))\n",
    "        self.exp_taxes = float(input(\"\\nHow much do you pay monthly in TAXES on your property?\\n\"))\n",
    "        self.exp_insurance = float(input(\"\\nHow much do you pay monthly for INSURANCE on your property?\\n\"))\n",
    "            # UTILITIES\n",
    "        utilities_query = (input(\"\\nDo you pay for any monthly utility for your property?\\n(For this calculator, utilities include: electricity, water, gas, sewage, garbage)\\n(Y)es | (N)o\\n\")).lower()\n",
    "        if utilities_query == 'n' or utilities_query == 'no' or utilities_query == '(n)' or utilities_query == '(n)o' or utilities_query == '0':\n",
    "            self.exp_electric = 0\n",
    "            self.exp_water = 0\n",
    "            self.exp_gas = 0\n",
    "            self.exp_sewer = 0\n",
    "            self.exp_garbage = 0\n",
    "        else:\n",
    "            self.exp_electric = float(input(\"\\nHow much do you pay monthly for ELECTRICTY?\\n\"))\n",
    "            self.exp_water = float(input(\"\\nHow much do you pay monthly for WATER?\\n\"))\n",
    "            self.exp_gas = float(input(\"\\nHow much do you pay monthly for GAS?\\n\"))\n",
    "            self.exp_sewer = float(input(\"\\nHow much do you pay monthly for SEWAGE?\\n\"))\n",
    "            self.exp_garbage = float(input(\"\\nHow much do you pay monthly for GARBAGE REMOVAL?\\n\"))\n",
    "            # OTHERS\n",
    "        self.exp_hoa = float(input(\"\\nHow much do you pay monthly in HOA FEES?\\n\"))\n",
    "        self.exp_lawn = float(input(\"\\nHow much do you pay monthly for LAWN CARE/SNOW REMOVAL?\\n\"))\n",
    "        \n",
    "            # PERCENT-BASED\n",
    "        print(\"\\nThe next few expenses covered are going to be based on a % of your property's total monthly income.\\nFor these expenses, please provide a % from 1-100 of your total monthly income that will go towards that expense.\\n(Example: If your total monthly income is $1000 and you put 5% towards repairs monthly, you will be putting $50/month towards repairs.\")\n",
    "                # PERCENTAGES\n",
    "        self.exp_vacancy_p = float(input(\"\\nWhat % of total monthly income will be put towards VACANCY CONTINGENCY?\\n(5% is recommended)\\n\"))\n",
    "        self.exp_repairs_p = float(input(\"\\nWhat % of total monthly income will be put towards REPAIR FUNDS?\\n(5% is recommended)\\n\"))\n",
    "        self.exp_capex_p = float(input(\"\\nWhat % of total monthly income will be put towards CAPITAL EXPENDITURE?\\n(5% is recommended)\\n\"))\n",
    "        self.exp_mgmt_p = float(input(\"\\nWhat % of total monthly income will be put towards PROPERTY MANAGEMENT FEES?\\n(10% is recommended)\\n\"))\n",
    "                # DOLLAR AMOUNT\n",
    "        self.exp_vacancy = self.exp_vacancy_p * self.inc_total_monthly / 100\n",
    "        self.exp_repairs = self.exp_repairs_p * self.inc_total_monthly / 100\n",
    "        self.exp_capex = self.exp_capex_p * self.inc_total_monthly / 100\n",
    "        self.exp_mgmt = self.exp_mgmt_p * self.inc_total_monthly / 100\n",
    "            # TOTAL\n",
    "        self.exp_total_monthly = self.exp_mortgage + self.exp_taxes + self.exp_insurance + self.exp_electric + self.exp_water + self.exp_gas + self.exp_sewer + self.exp_garbage + self.exp_hoa + self.exp_lawn + self.exp_vacancy + self.exp_repairs + self.exp_capex + self.exp_mgmt\n",
    "        \n",
    "        # INVESTMENT EXPENSES\n",
    "        print(\"\\nFinally, we're going ask you a series of questions regarding investment expenses incurred from your property.\")\n",
    "        self.invest_down_pay = float(input(\"\\nHow much did you pay in DOWN PAYMENT on your property?\\n\"))\n",
    "        self.invest_closing = float(input(\"\\nHow much did you pay in CLOSING COSTS on your property?\\n\"))\n",
    "        self.invest_repairs = float(input(\"\\nHow much did you set aside as REPAIR BUDGET for your property?\\n\"))\n",
    "        self.invest_misc = float(input(\"\\nHow much did you pay/set aside in MISCELLANEOUS INVESTMENTS for your property?\\n\"))\n",
    "            # TOTAL\n",
    "        self.invest_total = self.invest_down_pay + self.invest_closing + self.invest_repairs + self.invest_misc\n",
    "\n",
    "        # CALCULATIONS\n",
    "        self.cash_flow_monthly = self.inc_total_monthly - self.exp_total_monthly\n",
    "        self.cash_flow_annual = self.cash_flow_monthly * 12\n",
    "        self.roi_monthly = self.cash_flow_monthly / self.invest_total\n",
    "        self.roi_annual = self.cash_flow_annual / self.invest_total\n",
    "        self.roi_monthly_p = self.roi_monthly * 100\n",
    "        self.roi_annual_p = self.roi_annual * 100\n",
    "    \n",
    "    def show_info(self):\n",
    "        print(f\"=~=~= INCOME =~=~=\\nTotal Monthly Income: ${self.inc_total_monthly:.2f}\\n=~=~=~=~=~=~=~=~=~=~=~=~=~=~=~=~=~=~=~=~=~=~=~=~=~=\\n=~=~= EXPENSES =~=~=\\nTotal Monthly Expenses: ${self.exp_total_monthly:.2f}\\n=~=~=~=~=~=~=~=~=~=~=~=~=~=~=~=~=~=~=~=~=~=~=~=~=~=\\n=~=~= INVESTMENT EXPENSES =~=~=\\nTotal Investment: ${self.invest_total:.2f}\\n=~=~=~=~=~=~=~=~=~=~=~=~=~=~=~=~=~=~=~=~=~=~=~=~=~=\\n=~=~= ROI CALCULATIONS =~=~=\\nMonthly Cash Flow: ${self.cash_flow_monthly:.2f}\\nAnnual Cash Flow: ${self.cash_flow_annual:.2f}\\n=~=~=~=~=~=~=~=~=~=~=~=~=~=~=~=~=~=~=~=~=~=~=~=~=~=\\nMonthly Return-On-Investment (ROI): {self.roi_monthly_p:.2f}%\\nAnnual Return-On-Investment (ROI): {self.roi_annual_p:.2f}%\\n=~=~=~=~=~=~=~=~=~=~=~=~=~=~=~=~=~=~=~=~=~=~=~=~=~=\")\n",
    "\n",
    "    def __str__(self):\n",
    "        return f\"\\nHere is a review of your property's information:\\nAddress:\\n{self.street_address.title()}\\n{self.city.title()}, {self.state.upper()}, {self.zip_code}\\n\\nType: {self.type.title()}\\n=~=~= INCOME =~=~=\\nRent: ${self.inc_rent:.2f}\\nFees: ${self.inc_fees:.2f}\\n=~=~=~=~=~=~=~=~=~=~=~=~=~=~=~=~=~=~=~=~=~=~=~=~=~=\\nTotal Monthly Income: ${self.inc_total_monthly:.2f}\\n=~=~=~=~=~=~=~=~=~=~=~=~=~=~=~=~=~=~=~=~=~=~=~=~=~=\\n=~=~= EXPENSES =~=~=\\nMortgage: ${self.exp_mortgage:.2f}\\nTaxes: ${self.exp_taxes:.2f}\\nInsurance: ${self.exp_insurance:.2f}\\nElectricity: ${self.exp_electric:.2f}\\nWater: ${self.exp_water:.2f}\\nGas: ${self.exp_gas:.2f}\\nSewage: ${self.exp_sewer:.2f}\\nGarbage Removal: ${self.exp_garbage:.2f}\\nHOA Fees: ${self.exp_hoa:.2f}\\nLawn Care/Snow Removal: ${self.exp_lawn:.2f}\\nVacancy Contingency: ${self.exp_vacancy:.2f} ({self.exp_vacancy_p:.2f}% of total monthly income)\\nRepair Funds: ${self.exp_repairs:.2f} ({self.exp_repairs_p:.2f}% of total monthly income)\\nCapital Expenditure: ${self.exp_capex:.2f} ({self.exp_capex_p:.2f}% of total monthly income)\\nProperty Management Fees: ${self.exp_mgmt:.2f} ({self.exp_mgmt_p:.2f}% of total monthly income)\\n=~=~=~=~=~=~=~=~=~=~=~=~=~=~=~=~=~=~=~=~=~=~=~=~=~=\\nTotal Monthly Expenses: ${self.exp_total_monthly:.2f}\\n=~=~=~=~=~=~=~=~=~=~=~=~=~=~=~=~=~=~=~=~=~=~=~=~=~=\\n=~=~= INVESTMENT EXPENSES =~=~=\\nDown Payment: ${self.invest_down_pay:.2f}\\nClosing Costs: ${self.invest_closing:.2f}\\nRepair Budget: ${self.invest_repairs:.2f}\\nMiscellaneous Investments: ${self.invest_misc:.2f}\\n=~=~=~=~=~=~=~=~=~=~=~=~=~=~=~=~=~=~=~=~=~=~=~=~=~=\\nTotal Investment: ${self.invest_total:.2f}\\n=~=~=~=~=~=~=~=~=~=~=~=~=~=~=~=~=~=~=~=~=~=~=~=~=~=\\n=~=~= ROI CALCULATIONS =~=~=\\nMonthly Cash Flow: ${self.cash_flow_monthly:.2f}\\nAnnual Cash Flow: ${self.cash_flow_annual:.2f}\\n=~=~=~=~=~=~=~=~=~=~=~=~=~=~=~=~=~=~=~=~=~=~=~=~=~=\\nMonthly Return-On-Investment (ROI): {self.roi_monthly_p:.2f}%\\nAnnual Return-On-Investment (ROI): {self.roi_annual_p:.2f}%\\n=~=~=~=~=~=~=~=~=~=~=~=~=~=~=~=~=~=~=~=~=~=~=~=~=~=\""
   ]
  },
  {
   "cell_type": "code",
   "execution_count": 10,
   "metadata": {},
   "outputs": [
    {
     "name": "stdout",
     "output_type": "stream",
     "text": [
      "First, a few basic questions regarding your property.\n",
      "\n",
      "Thanks. Now let's get started with evaluating your property's return-on-investment (ROI).\n",
      "We're going ask you a couple of questions regarding income from your property.\n",
      "\n",
      "Next, we're going ask you a series of questions regarding expenses incurred from your property.\n",
      "\n",
      "The next few expenses covered are going to be based on a % of your property's total monthly income.\n",
      "For these expenses, please provide a % from 1-100 of your total monthly income that will go towards that expense.\n",
      "(Example: If your total monthly income is $1000 and you put 5% towards repairs monthly, you will be putting $50/month towards repairs.\n",
      "\n",
      "Finally, we're going ask you a series of questions regarding investment expenses incurred from your property.\n"
     ]
    }
   ],
   "source": [
    "my_house = Property()"
   ]
  },
  {
   "cell_type": "code",
   "execution_count": 11,
   "metadata": {},
   "outputs": [
    {
     "name": "stdout",
     "output_type": "stream",
     "text": [
      "=~=~= INCOME =~=~=\n",
      "Total Monthly Income: $2000.00\n",
      "=~=~=~=~=~=~=~=~=~=~=~=~=~=~=~=~=~=~=~=~=~=~=~=~=~=\n",
      "=~=~= EXPENSES =~=~=\n",
      "Total Monthly Expenses: $1610.00\n",
      "=~=~=~=~=~=~=~=~=~=~=~=~=~=~=~=~=~=~=~=~=~=~=~=~=~=\n",
      "=~=~= INVESTMENT EXPENSES =~=~=\n",
      "Total Investment: $50000.00\n",
      "=~=~=~=~=~=~=~=~=~=~=~=~=~=~=~=~=~=~=~=~=~=~=~=~=~=\n",
      "=~=~= ROI CALCULATIONS =~=~=\n",
      "Monthly Cash Flow: $390.00\n",
      "Annual Cash Flow: $4680.00\n",
      "=~=~=~=~=~=~=~=~=~=~=~=~=~=~=~=~=~=~=~=~=~=~=~=~=~=\n",
      "Monthly Return-On-Investment (ROI): 0.78%\n",
      "Annual Return-On-Investment (ROI): 9.36%\n",
      "=~=~=~=~=~=~=~=~=~=~=~=~=~=~=~=~=~=~=~=~=~=~=~=~=~=\n"
     ]
    }
   ],
   "source": [
    "my_house.show_info()"
   ]
  },
  {
   "cell_type": "code",
   "execution_count": 12,
   "metadata": {},
   "outputs": [
    {
     "name": "stdout",
     "output_type": "stream",
     "text": [
      "\n",
      "Here is a review of your property's information:\n",
      "Address:\n",
      "123 Main St.\n",
      "Houston, TX, 12345\n",
      "\n",
      "Type: Condo\n",
      "=~=~= INCOME =~=~=\n",
      "Rent: $2000.00\n",
      "Fees: $0.00\n",
      "=~=~=~=~=~=~=~=~=~=~=~=~=~=~=~=~=~=~=~=~=~=~=~=~=~=\n",
      "Total Monthly Income: $2000.00\n",
      "=~=~=~=~=~=~=~=~=~=~=~=~=~=~=~=~=~=~=~=~=~=~=~=~=~=\n",
      "=~=~= EXPENSES =~=~=\n",
      "Mortgage: $860.00\n",
      "Taxes: $150.00\n",
      "Insurance: $100.00\n",
      "Electricity: $0.00\n",
      "Water: $0.00\n",
      "Gas: $0.00\n",
      "Sewage: $0.00\n",
      "Garbage Removal: $0.00\n",
      "HOA Fees: $0.00\n",
      "Lawn Care/Snow Removal: $0.00\n",
      "Vacancy Contingency: $100.00 (5.00% of total monthly income)\n",
      "Repair Funds: $100.00 (5.00% of total monthly income)\n",
      "Capital Expenditure: $100.00 (5.00% of total monthly income)\n",
      "Property Management Fees: $200.00 (10.00% of total monthly income)\n",
      "=~=~=~=~=~=~=~=~=~=~=~=~=~=~=~=~=~=~=~=~=~=~=~=~=~=\n",
      "Total Monthly Expenses: $1610.00\n",
      "=~=~=~=~=~=~=~=~=~=~=~=~=~=~=~=~=~=~=~=~=~=~=~=~=~=\n",
      "=~=~= INVESTMENT EXPENSES =~=~=\n",
      "Down Payment: $40000.00\n",
      "Closing Costs: $3000.00\n",
      "Repair Budget: $7000.00\n",
      "Miscellaneous Investments: $0.00\n",
      "=~=~=~=~=~=~=~=~=~=~=~=~=~=~=~=~=~=~=~=~=~=~=~=~=~=\n",
      "Total Investment: $50000.00\n",
      "=~=~=~=~=~=~=~=~=~=~=~=~=~=~=~=~=~=~=~=~=~=~=~=~=~=\n",
      "=~=~= ROI CALCULATIONS =~=~=\n",
      "Monthly Cash Flow: $390.00\n",
      "Annual Cash Flow: $4680.00\n",
      "=~=~=~=~=~=~=~=~=~=~=~=~=~=~=~=~=~=~=~=~=~=~=~=~=~=\n",
      "Monthly Return-On-Investment (ROI): 0.78%\n",
      "Annual Return-On-Investment (ROI): 9.36%\n",
      "=~=~=~=~=~=~=~=~=~=~=~=~=~=~=~=~=~=~=~=~=~=~=~=~=~=\n"
     ]
    }
   ],
   "source": [
    "print(my_house)"
   ]
  }
 ],
 "metadata": {
  "kernelspec": {
   "display_name": "Python 3.9.12 ('base')",
   "language": "python",
   "name": "python3"
  },
  "language_info": {
   "codemirror_mode": {
    "name": "ipython",
    "version": 3
   },
   "file_extension": ".py",
   "mimetype": "text/x-python",
   "name": "python",
   "nbconvert_exporter": "python",
   "pygments_lexer": "ipython3",
   "version": "3.9.12"
  },
  "orig_nbformat": 4,
  "vscode": {
   "interpreter": {
    "hash": "ad2bdc8ecc057115af97d19610ffacc2b4e99fae6737bb82f5d7fb13d2f2c186"
   }
  }
 },
 "nbformat": 4,
 "nbformat_minor": 2
}
